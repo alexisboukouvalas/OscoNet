{
 "cells": [
  {
   "cell_type": "markdown",
   "metadata": {},
   "source": [
    "# This notebook aims to reproduce Table 1\n"
   ]
  },
  {
   "cell_type": "markdown",
   "metadata": {},
   "source": [
    "## Install the following packages if necessary\n"
   ]
  },
  {
   "cell_type": "code",
   "execution_count": 1,
   "metadata": {},
   "outputs": [],
   "source": [
    "#install.packages('xml2')\n",
    "#install.packages('neat')\n",
    "#install.packages('neat')\n",
    "\n",
    "#if (!requireNamespace(\"BiocManager\", quietly = TRUE))\n",
    "#install.packages(\"BiocManager\")\n",
    "\n",
    "#BiocManager::install(\"biomaRt\")"
   ]
  },
  {
   "cell_type": "markdown",
   "metadata": {},
   "source": [
    "## Loading the packages\n"
   ]
  },
  {
   "cell_type": "code",
   "execution_count": 2,
   "metadata": {},
   "outputs": [
    {
     "name": "stderr",
     "output_type": "stream",
     "text": [
      "\n",
      "Attaching package: ‘igraph’\n",
      "\n",
      "The following objects are masked from ‘package:stats’:\n",
      "\n",
      "    decompose, spectrum\n",
      "\n",
      "The following object is masked from ‘package:base’:\n",
      "\n",
      "    union\n",
      "\n",
      "Warning message:\n",
      "“package ‘biomaRt’ was built under R version 3.6.1”"
     ]
    }
   ],
   "source": [
    "###MainClusterWhitfild\n",
    "library('igraph')\n",
    "library('biomaRt')\n",
    "library('neat')\n",
    "#library('Oscope')\n",
    "#load('~/Manchester/Alexis/Oscope++/OscopeRcode/casestudy/WhitfieldStandardOscope/StandardOscope.RData')\n",
    "\n",
    "#mypath='/home/luisa/Manchester/Alexis/Oscope++/'\n",
    "customlib='../R/CustomLibrary.R'\n",
    "source(customlib)\n",
    "\n",
    "workingdir='../casestudy/Whitfield/Results'\n",
    "\n",
    "\n"
   ]
  },
  {
   "cell_type": "markdown",
   "metadata": {},
   "source": [
    "## loading the data and Graph creation\n"
   ]
  },
  {
   "cell_type": "code",
   "execution_count": 3,
   "metadata": {},
   "outputs": [
    {
     "name": "stdout",
     "output_type": "stream",
     "text": [
      "[1] \"../casestudy/Whitfield/filt0.9Data_N2000_g50_TFTrue_SummaryPartition.csv\"\n"
     ]
    }
   ],
   "source": [
    "filename='../casestudy/Whitfield/filt0.9Data_N2000_g50_TFTrue_SummaryPartition.csv'\n",
    "ppp=strsplit('Whitfield/filt0.9Data_N2000_g50_TFTrue_SummaryPartition.csv',split=\".csv\")\n",
    "basefilea=ppp[[1]]\n",
    "#filename='filt0.9Data_N1000_g18_TFTrue_SummaryPartition.csv'\n",
    "print(filename)\n",
    "data=read.csv(file=filename, header= TRUE,row.names=1)\n",
    "G=graph_from_data_frame(data,directed=FALSE)\n",
    "#ww=get.edge.attribute(G,'cost')\n"
   ]
  },
  {
   "cell_type": "code",
   "execution_count": 4,
   "metadata": {},
   "outputs": [
    {
     "data": {
      "text/html": [
       "<ol class=list-inline>\n",
       "\t<li>'CellCycleGeneList_1134.txt'</li>\n",
       "\t<li>'filt0.9Data_N2000_g50_TFTrue_SummaryPartition.csv'</li>\n",
       "\t<li>'ImageIdConversions.txt'</li>\n",
       "\t<li>'Results'</li>\n",
       "\t<li>'StandardOscope.RData'</li>\n",
       "</ol>\n"
      ],
      "text/latex": [
       "\\begin{enumerate*}\n",
       "\\item 'CellCycleGeneList\\_1134.txt'\n",
       "\\item 'filt0.9Data\\_N2000\\_g50\\_TFTrue\\_SummaryPartition.csv'\n",
       "\\item 'ImageIdConversions.txt'\n",
       "\\item 'Results'\n",
       "\\item 'StandardOscope.RData'\n",
       "\\end{enumerate*}\n"
      ],
      "text/markdown": [
       "1. 'CellCycleGeneList_1134.txt'\n",
       "2. 'filt0.9Data_N2000_g50_TFTrue_SummaryPartition.csv'\n",
       "3. 'ImageIdConversions.txt'\n",
       "4. 'Results'\n",
       "5. 'StandardOscope.RData'\n",
       "\n",
       "\n"
      ],
      "text/plain": [
       "[1] \"CellCycleGeneList_1134.txt\"                       \n",
       "[2] \"filt0.9Data_N2000_g50_TFTrue_SummaryPartition.csv\"\n",
       "[3] \"ImageIdConversions.txt\"                           \n",
       "[4] \"Results\"                                          \n",
       "[5] \"StandardOscope.RData\"                             "
      ]
     },
     "metadata": {},
     "output_type": "display_data"
    }
   ],
   "source": [
    "dir('../casestudy/Whitfield/')\n"
   ]
  },
  {
   "cell_type": "markdown",
   "metadata": {},
   "source": [
    "## Walktrap Community Extraction\n"
   ]
  },
  {
   "cell_type": "code",
   "execution_count": 5,
   "metadata": {},
   "outputs": [
    {
     "data": {
      "text/html": [
       "0.226223081350327"
      ],
      "text/latex": [
       "0.226223081350327"
      ],
      "text/markdown": [
       "0.226223081350327"
      ],
      "text/plain": [
       "[1] 0.2262231"
      ]
     },
     "metadata": {},
     "output_type": "display_data"
    }
   ],
   "source": [
    "###############WALKTRAP COMMUNITY \n",
    "wt=walktrap.community(G)\n",
    "modularity(wt)\n",
    "mwt=membership(wt)\n",
    "sz=sizes(wt)\n",
    "#sz[which(sz>=10)]\n",
    "Mwt=as.matrix(membership(wt))"
   ]
  },
  {
   "cell_type": "markdown",
   "metadata": {},
   "source": [
    "##  Retrieving information and merge communities with Cell Cycle related genes\n",
    "\n"
   ]
  },
  {
   "cell_type": "code",
   "execution_count": 6,
   "metadata": {},
   "outputs": [],
   "source": [
    "genes=read.delim(file.path('../casestudy/Whitfield/ImageIdConversions.txt'),sep=\"\\t\",header=TRUE,quote=\"\")\n",
    "details=genes[,c(1:3)]\n",
    "colnames(details)=c('CloneID','Ref','GeneSymbol')\n",
    "colnames(Mwt)='CommunityID'\n",
    "\n",
    "merMwt=merge(details,Mwt,by.x='CloneID',by.y=0,all.y=TRUE)\n",
    "write.table(merMwt, file=file.path(workingdir,'witfildCommG50.txt'),sep='\\t',quote=FALSE,row.names=FALSE)\n",
    "CC=read.delim('../casestudy/Whitfield/CellCycleGeneList_1134.txt')\n",
    "#CCmerMwt=merge(CC,merMwt,by.x='CLONEID',by.y='CloneID')\n",
    "CCmerMwt=merge(CC,Mwt,by.x='CLONEID',by.y=0)\n",
    "\n",
    "write.table(CCmerMwt, file=file.path(workingdir,'CCwitfildCommG50.txt'), sep='\\t',quote=FALSE,row.names=FALSE)\n",
    "\n"
   ]
  },
  {
   "cell_type": "markdown",
   "metadata": {},
   "source": [
    "## Testing for communities CC enriched\n"
   ]
  },
  {
   "cell_type": "code",
   "execution_count": 7,
   "metadata": {},
   "outputs": [],
   "source": [
    "vecComCC=unique(CCmerMwt$CommunityID)#community arricchite per CC\n",
    "sizeCCcom=vecComCC\n",
    "EnrichmentTest=vecComCC\n",
    "GlobalRatio=vecComCC\n",
    "RelativeRatio=vecComCC\n",
    "\n",
    "white=length(unique(CCmerMwt$CLONEID))#TotalCommonTargets 360 CC presenti nella rete\n",
    "black=length(unique(merMwt$CloneID))-white #Total Non CC, tutti gli altri\n",
    "validation1=NULL\n",
    "validation2=NULL\n",
    "\n",
    "for (h in c(1:length(vecComCC))){\n",
    "  \n",
    "  ####neat testing for edges\n",
    "  genlist1=CCmerMwt$CLONEID[which(CCmerMwt$CommunityID==vecComCC[h])]#CC genes in  cluster vecComCC[h]\n",
    "  #myList[[length(myList)+1]] <- list(genlist1)\n",
    "  genlist2=merMwt$CloneID[which(merMwt$CommunityID==vecComCC[h])]#All the genes in Cluster vecComCC[h]\n",
    "  alist = list('set 1' = genlist1)\n",
    "  names(alist)=vecComCC[h]\n",
    "  blist= list('set 2'=genlist2)\n",
    "  test1 = neat(alist = alist, blist = alist, network = G,\n",
    "               nettype = 'undirected', nodes = V(G)$name, alpha = 0.1)\n",
    "  test2 = neat(alist = alist, blist = blist, network = G,\n",
    "               nettype = 'undirected', nodes = V(G)$name, alpha = 0.1)\n",
    "  validation1=rbind(validation1,print(test1))\n",
    "  validation2=rbind(validation2,print(test2))\n",
    "  \n",
    "  ####hypergeometric testing for vertex\n",
    "  sizeCCcom[h]=length(which(CCmerMwt$CommunityID==vecComCC[h]))\n",
    "  x=sizeCCcom[h]#intersection\n",
    "  k=length(which(merMwt$CommunityID==vecComCC[h]))#commsize\n",
    "  EnrichmentTest[h]=1-phyper(x,white,black,k)\n",
    "  GlobalRatio[h]=x/white\n",
    "  RelativeRatio[h]=x/k\n",
    "}\n",
    "BHE=p.adjust(EnrichmentTest,method='BH')\n",
    "outCC=cbind(vecComCC,sizeCCcom,GlobalRatio,RelativeRatio,EnrichmentTest,BHE)\n",
    "colnames(outCC)=c('CC enriched Comm ID', 'size CC Overlapping','Global CC Ratio','Relative CC Ratio','CC Overlapping Significance','CC sig BH corr')\n",
    "CCvalidation=validation1\n",
    "outCC=cbind(outCC,CCvalidation)\n",
    "\n"
   ]
  },
  {
   "cell_type": "markdown",
   "metadata": {},
   "source": [
    "## Wilcoxon Test on Community Significance\n"
   ]
  },
  {
   "cell_type": "code",
   "execution_count": 8,
   "metadata": {},
   "outputs": [],
   "source": [
    "##########################################\n",
    "IdGE10=which(sz>1)\n",
    "n10=length(IdGE10)\n",
    "MatSummary=matrix('NA',n10,6)\n",
    "colnames(MatSummary)=c(\"Min.\",\"1st Qu.\",\"Median\",\"Mean\",\"3rd Qu.\",\"Max.\" )\n",
    "NumberOfEdges=matrix('NA',n10,1)\n",
    "CommDensity=matrix('NA',n10,1)\n",
    "RelativeCommDensity=matrix('NA',n10,1)\n",
    "PsigCom=matrix('NA',n10,1)\n",
    "TotalEdges=ecount(G)\n",
    "for (i in c(1:n10)){\n",
    "  actCom=IdGE10[i]\n",
    "  actNodes=which(Mwt==actCom)\n",
    "  actNumVertex=length(actNodes)\n",
    "  subG=induced_subgraph(G,actNodes)\n",
    "  actEdge=E(subG)\n",
    "  actNumEdges=ecount(subG)\n",
    "  NumberOfEdges[i]=actNumEdges\n",
    "  CommDensity[i]=actNumEdges/TotalEdges\n",
    "  RelativeCommDensity[i]=2*actNumEdges/(actNumVertex^2-actNumVertex)\n",
    "  \n",
    "  actCost=get.edge.attribute(subG,'cost',index=actEdge)\n",
    "  vsumAct=as.vector(summary(actCost))\n",
    "  MatSummary[i,]=vsumAct\n",
    "  res=community.significance.test(G, actNodes)\n",
    "  PsigCom[i]=res$p.value\n",
    "}\n",
    "sizes10=sz[IdGE10]\n",
    "sizes10=data.frame(Community=names(sizes10),NumberOfNodes= as.vector(sizes10))\n",
    "\n",
    "Report10=data.frame(sizes10,Significance=PsigCom,Density=CommDensity,RelativeDensity=RelativeCommDensity,MatSummary)\n",
    "Report10sig=Report10[which(as.numeric(as.vector(Report10$Significance))<0.01),]\n",
    "###########\n",
    "###basicInfo contains the basic info for the Significant communities:\n",
    "#ID, Significance, Number of nodes, Density and relative density\n",
    "#we have 8 communities (25  38  61  70  74  92  124 139) significant\n",
    "basicInfo=Report10sig[,c(1:5)]#data.frame(sizes10,NumberOfNodes=NumberOfNodes,NumberOfEdges=NumberOfEdges,Significance=PsigCom)\n",
    "valCC=merge(outCC,basicInfo,by.y='Community',by.x=1)\n",
    "AAA=merge(basicInfo,outCC,by.x='Community',by.y=1,all.x=TRUE)\n",
    "\n",
    "Table1=data.frame(Size=as.vector(AAA$NumberOfNodes),CC=as.vector(AAA$'size CC Overlapping'),Density=as.vector(AAA$Density),Realative_density=as.vector(AAA$RelativeDensity),Neat=as.vector(AAA$adjusted_p),Hypergeometic=as.vector(AAA$'CC sig BH corr'), Significance=AAA$Significance)\n",
    "\n",
    "Table1=Table1[order(Table1$Realative_density,decreasing = TRUE),]"
   ]
  },
  {
   "cell_type": "code",
   "execution_count": 9,
   "metadata": {},
   "outputs": [
    {
     "data": {
      "text/html": [
       "<table>\n",
       "<caption>A data.frame: 5 × 7</caption>\n",
       "<thead>\n",
       "\t<tr><th></th><th scope=col>Size</th><th scope=col>CC</th><th scope=col>Density</th><th scope=col>Realative_density</th><th scope=col>Neat</th><th scope=col>Hypergeometic</th><th scope=col>Significance</th></tr>\n",
       "\t<tr><th></th><th scope=col>&lt;int&gt;</th><th scope=col>&lt;dbl&gt;</th><th scope=col>&lt;fct&gt;</th><th scope=col>&lt;fct&gt;</th><th scope=col>&lt;dbl&gt;</th><th scope=col>&lt;dbl&gt;</th><th scope=col>&lt;fct&gt;</th></tr>\n",
       "</thead>\n",
       "<tbody>\n",
       "\t<tr><th scope=row>5</th><td>  27</td><td> NA</td><td>0.000840752797119883</td><td>0.444444444444444</td><td>       NA</td><td>      NA</td><td>2.4451146538946e-06 </td></tr>\n",
       "\t<tr><th scope=row>1</th><td> 265</td><td>239</td><td>0.0774893828012159  </td><td>0.411034877072613</td><td>0.0000000</td><td>0.000000</td><td>3.3217035022318e-61 </td></tr>\n",
       "\t<tr><th scope=row>4</th><td>1157</td><td> 99</td><td>0.801059564102011   </td><td>0.222259273326495</td><td>0.2823336</td><td>0.999917</td><td>5.1989280098676e-287</td></tr>\n",
       "\t<tr><th scope=row>2</th><td> 131</td><td> NA</td><td>0.00757216461508612 </td><td>0.165002935995302</td><td>       NA</td><td>      NA</td><td>9.4263467841257e-14 </td></tr>\n",
       "\t<tr><th scope=row>3</th><td>  82</td><td>  1</td><td>0.00198870373164895 </td><td>0.111111111111111</td><td>0.9998680</td><td>0.999917</td><td>0.000402051421160656</td></tr>\n",
       "</tbody>\n",
       "</table>\n"
      ],
      "text/latex": [
       "A data.frame: 5 × 7\n",
       "\\begin{tabular}{r|lllllll}\n",
       "  & Size & CC & Density & Realative\\_density & Neat & Hypergeometic & Significance\\\\\n",
       "  & <int> & <dbl> & <fct> & <fct> & <dbl> & <dbl> & <fct>\\\\\n",
       "\\hline\n",
       "\t5 &   27 &  NA & 0.000840752797119883 & 0.444444444444444 &        NA &       NA & 2.4451146538946e-06 \\\\\n",
       "\t1 &  265 & 239 & 0.0774893828012159   & 0.411034877072613 & 0.0000000 & 0.000000 & 3.3217035022318e-61 \\\\\n",
       "\t4 & 1157 &  99 & 0.801059564102011    & 0.222259273326495 & 0.2823336 & 0.999917 & 5.1989280098676e-287\\\\\n",
       "\t2 &  131 &  NA & 0.00757216461508612  & 0.165002935995302 &        NA &       NA & 9.4263467841257e-14 \\\\\n",
       "\t3 &   82 &   1 & 0.00198870373164895  & 0.111111111111111 & 0.9998680 & 0.999917 & 0.000402051421160656\\\\\n",
       "\\end{tabular}\n"
      ],
      "text/markdown": [
       "\n",
       "A data.frame: 5 × 7\n",
       "\n",
       "| <!--/--> | Size &lt;int&gt; | CC &lt;dbl&gt; | Density &lt;fct&gt; | Realative_density &lt;fct&gt; | Neat &lt;dbl&gt; | Hypergeometic &lt;dbl&gt; | Significance &lt;fct&gt; |\n",
       "|---|---|---|---|---|---|---|---|\n",
       "| 5 |   27 |  NA | 0.000840752797119883 | 0.444444444444444 |        NA |       NA | 2.4451146538946e-06  |\n",
       "| 1 |  265 | 239 | 0.0774893828012159   | 0.411034877072613 | 0.0000000 | 0.000000 | 3.3217035022318e-61  |\n",
       "| 4 | 1157 |  99 | 0.801059564102011    | 0.222259273326495 | 0.2823336 | 0.999917 | 5.1989280098676e-287 |\n",
       "| 2 |  131 |  NA | 0.00757216461508612  | 0.165002935995302 |        NA |       NA | 9.4263467841257e-14  |\n",
       "| 3 |   82 |   1 | 0.00198870373164895  | 0.111111111111111 | 0.9998680 | 0.999917 | 0.000402051421160656 |\n",
       "\n"
      ],
      "text/plain": [
       "  Size CC  Density              Realative_density Neat      Hypergeometic\n",
       "5   27  NA 0.000840752797119883 0.444444444444444        NA       NA     \n",
       "1  265 239 0.0774893828012159   0.411034877072613 0.0000000 0.000000     \n",
       "4 1157  99 0.801059564102011    0.222259273326495 0.2823336 0.999917     \n",
       "2  131  NA 0.00757216461508612  0.165002935995302        NA       NA     \n",
       "3   82   1 0.00198870373164895  0.111111111111111 0.9998680 0.999917     \n",
       "  Significance        \n",
       "5 2.4451146538946e-06 \n",
       "1 3.3217035022318e-61 \n",
       "4 5.1989280098676e-287\n",
       "2 9.4263467841257e-14 \n",
       "3 0.000402051421160656"
      ]
     },
     "metadata": {},
     "output_type": "display_data"
    }
   ],
   "source": [
    "Table1"
   ]
  },
  {
   "cell_type": "code",
   "execution_count": 10,
   "metadata": {},
   "outputs": [],
   "source": [
    "write.table(Table1, file=paste(workingdir,'Table1','.txt',sep=''),sep='\\t',quote=FALSE,row.names=FALSE,col.names=TRUE)\n"
   ]
  }
 ],
 "metadata": {
  "kernelspec": {
   "display_name": "R",
   "language": "R",
   "name": "ir"
  },
  "language_info": {
   "codemirror_mode": "r",
   "file_extension": ".r",
   "mimetype": "text/x-r-source",
   "name": "R",
   "pygments_lexer": "r",
   "version": "3.6.0"
  }
 },
 "nbformat": 4,
 "nbformat_minor": 2
}
