{
 "cells": [
  {
   "cell_type": "markdown",
   "metadata": {},
   "source": [
    "# OscoNet: Inferring oscillatory gene networks\n",
    "\n",
    "This notebook provides an introduction to the bootstrap hypothesis test described in more detaild in the [paper](https://www.biorxiv.org/content/10.1101/600049v1).\n"
   ]
  },
  {
   "cell_type": "code",
   "execution_count": 7,
   "metadata": {},
   "outputs": [],
   "source": [
    "%matplotlib inline\n",
    "from OscopeBootstrap import qvalue\n",
    "from OscopeBootstrap.create_edge_network_represention import create_edge_network_representation\n",
    "from OscopeBootstrap.SyntheticDataset import GetSimISyntheticData, true_adj_matrix\n",
    "from OscopeBootstrap.oscope_tf import bootstrap_hypothesis_test, get_accuracy, get_metrics_for_different_qvalue_thresholds\n",
    "from matplotlib import pyplot as plt\n",
    "import numpy as np"
   ]
  },
  {
   "cell_type": "markdown",
   "metadata": {},
   "source": [
    "### First create a synthetic dataset containing one group of co-oscillating genes"
   ]
  },
  {
   "cell_type": "code",
   "execution_count": 8,
   "metadata": {},
   "outputs": [
    {
     "name": "stdout",
     "output_type": "stream",
     "text": [
      "I am in group 2\n",
      "NG = 10\n",
      "White noise from 40\n"
     ]
    }
   ],
   "source": [
    "NG = 10  # half gene cluster size so we have a total of 10 co-oscillating genes  \n",
    "G = 80  # number of genes\n",
    "N = 1000 # cells\n",
    "ngroups = 2 # one cluster\n",
    "data_df, phaseG, angularSpeed = GetSimISyntheticData(NG=NG, G=G, ngroups=ngroups, N=N, noiseLevel=0)\n",
    "adjacency_matrix_true = true_adj_matrix(G, angularSpeed)  # True adjacency matrix"
   ]
  },
  {
   "cell_type": "code",
   "execution_count": 9,
   "metadata": {},
   "outputs": [],
   "source": [
    "ppp=data_df.iloc\n"
   ]
  },
  {
   "cell_type": "code",
   "execution_count": 10,
   "metadata": {},
   "outputs": [
    {
     "data": {
      "text/plain": [
       "10"
      ]
     },
     "execution_count": 10,
     "metadata": {},
     "output_type": "execute_result"
    }
   ],
   "source": [
    "NG\n"
   ]
  },
  {
   "cell_type": "markdown",
   "metadata": {},
   "source": [
    "### Show an example of each type of gene expression in the synthetic data\n",
    "1. Strong oscillator which has little noise\n",
    "1. Weak oscillator with higher noise\n",
    "1. White noise gene (no oscillation)\n",
    "For more information on how these are generate see the docstring for `GetSimISyntheticData` and the supplementary material\n",
    "of the original [Oscope paper](https://www.nature.com/articles/nmeth.3549)."
   ]
  },
  {
   "cell_type": "code",
   "execution_count": 11,
   "metadata": {},
   "outputs": [
    {
     "data": {
      "text/plain": [
       "Text(0.5, 1.0, 'white noise gene')"
      ]
     },
     "execution_count": 11,
     "metadata": {},
     "output_type": "execute_result"
    },
    {
     "data": {
      "image/png": "[encoded data removed]",
      "text/plain": [
       "<Figure size 432x288 with 3 Axes>"
      ]
     },
     "metadata": {
      "needs_background": "light"
     },
     "output_type": "display_data"
    }
   ],
   "source": [
    "_, ax = plt.subplots(3, sharex=True, sharey=True)\n",
    "ax[0].plot(np.arange(N), data_df.iloc[0, :], 'bo'); ax[0].set_title('strong oscillator')\n",
    "ax[1].plot(np.arange(N), data_df.iloc[NG, :], 'bo'); ax[1].set_title('weak-noisy oscillator')\n",
    "ax[2].plot(np.arange(N), data_df.iloc[2*NG, :], 'bo'); ax[2].set_title('white noise gene')"
   ]
  },
  {
   "cell_type": "markdown",
   "metadata": {},
   "source": [
    "### Apply the hypothesis test\n",
    "This can take 30seconds - 1 minute depending on your hardware."
   ]
  },
  {
   "cell_type": "code",
   "execution_count": 12,
   "metadata": {},
   "outputs": [
    {
     "name": "stderr",
     "output_type": "stream",
     "text": [
      "/Users/luisacutillo/GitProjects/Elli/FullOscoNet/OscopeBootstrap/oscope_tf.py:222: RuntimeWarning: invalid value encountered in multiply\n",
      "  psi_ng = np.zeros((G, G)) * np.inf\n"
     ]
    },
    {
     "name": "stdout",
     "output_type": "stream",
     "text": [
      "find_best_psi_for_each_gene_pair 0 secs\n",
      "get_permuted_cost 5 secs\n",
      "get_pvalues 0 secs\n",
      "qvalues pi0=0.783, estimated proportion of null features \n"
     ]
    }
   ],
   "source": [
    "n_bootstrap = 100  # number of bootstrap samples\n",
    "grid_points_in_search = 10  # grid size for phase shift parameter estimation., \n",
    "alpha = 0.001  # significance level\n",
    "adjacency_matrix, qvalues, cost_matrix = bootstrap_hypothesis_test(n_bootstrap, data_df.values, alpha=alpha,\n",
    "                                                            grid_points_in_search=grid_points_in_search)\n"
   ]
  },
  {
   "cell_type": "markdown",
   "metadata": {},
   "source": [
    "### Calculate diagnostics"
   ]
  },
  {
   "cell_type": "code",
   "execution_count": 13,
   "metadata": {},
   "outputs": [
    {
     "name": "stdout",
     "output_type": "stream",
     "text": [
      "Ratio of correctly identified pairs 0.99\n",
      "True positive rate 1.00, False discovery rate 0.05\n"
     ]
    }
   ],
   "source": [
    "correct_ratio = get_accuracy(adjacency_matrix, adjacency_matrix_true)\n",
    "print(f'Ratio of correctly identified pairs {correct_ratio:.2f}')\n",
    "\n",
    "TPR, FDR, _ = get_metrics_for_different_qvalue_thresholds(qvalues, adjacency_matrix_true, np.array([alpha]))\n",
    "print(f'True positive rate {float(TPR):.2f}, False discovery rate {float(FDR):.2f}')"
   ]
  },
  {
   "cell_type": "markdown",
   "metadata": {},
   "source": [
    "### Show true and estimated adjacency matrices\n",
    "The matrix shown 20 X 20 as we have G=20 genes in our example.\n",
    "Each entry (i, j) shows if gene i is found to be co-oscillating with gene j."
   ]
  },
  {
   "cell_type": "code",
   "execution_count": 6,
   "metadata": {},
   "outputs": [
    {
     "data": {
      "text/plain": [
       "Text(0.5, 1.0, 'estimated adjacency matrix')"
      ]
     },
     "execution_count": 6,
     "metadata": {},
     "output_type": "execute_result"
    },
    {
     "data": {
      "image/png": "[encoded data removed]",
      "text/plain": [
       "<Figure size 1440x504 with 2 Axes>"
      ]
     },
     "metadata": {
      "needs_background": "light"
     },
     "output_type": "display_data"
    }
   ],
   "source": [
    "_, ax = plt.subplots(1, 2, figsize=(20, 7))\n",
    "ax[0].imshow(adjacency_matrix_true); ax[0].set_title('true adjacency matrix')\n",
    "ax[1].imshow(adjacency_matrix); ax[1].set_title('estimated adjacency matrix')"
   ]
  },
  {
   "cell_type": "markdown",
   "metadata": {},
   "source": [
    "We can see the hypothesis test correctly identifies the cluster whilst also having false positives."
   ]
  },
  {
   "cell_type": "markdown",
   "metadata": {},
   "source": [
    "### Calculate edge network representation needed for network analysis\n",
    "This creates a dataframe with 3 columns, the gene names of all significant pairs and the cost of that interaction. The cost is defined in Equation (1) in the paper - the smaller, the stronger the interaction. \n",
    "This edge network can then be passed in to the network analysis code. The cost value may be interpreted as a weight in the graph and hence we pass in the reciprocal of the `cost_matrix`. The user could also pass in `qvalues` instead of the `cost_matrix` to obtain a weight based on value."
   ]
  },
  {
   "cell_type": "code",
   "execution_count": 7,
   "metadata": {},
   "outputs": [
    {
     "name": "stdout",
     "output_type": "stream",
     "text": [
      "Sparseness 0.242105\n"
     ]
    }
   ],
   "source": [
    "gene_names = [f'gene{i}' for i in range(G)]\n",
    "edge_network = create_edge_network_representation(adjacency_matrix, 1/cost_matrix, gene_names)"
   ]
  },
  {
   "cell_type": "code",
   "execution_count": 8,
   "metadata": {},
   "outputs": [
    {
     "data": {
      "text/html": [
       "<div>\n",
       "<style scoped>\n",
       "    .dataframe tbody tr th:only-of-type {\n",
       "        vertical-align: middle;\n",
       "    }\n",
       "\n",
       "    .dataframe tbody tr th {\n",
       "        vertical-align: top;\n",
       "    }\n",
       "\n",
       "    .dataframe thead th {\n",
       "        text-align: right;\n",
       "    }\n",
       "</style>\n",
       "<table border=\"1\" class=\"dataframe\">\n",
       "  <thead>\n",
       "    <tr style=\"text-align: right;\">\n",
       "      <th></th>\n",
       "      <th>gene1</th>\n",
       "      <th>gene2</th>\n",
       "      <th>weight</th>\n",
       "    </tr>\n",
       "  </thead>\n",
       "  <tbody>\n",
       "    <tr>\n",
       "      <th>0</th>\n",
       "      <td>gene0</td>\n",
       "      <td>gene1</td>\n",
       "      <td>0.751975</td>\n",
       "    </tr>\n",
       "    <tr>\n",
       "      <th>1</th>\n",
       "      <td>gene0</td>\n",
       "      <td>gene2</td>\n",
       "      <td>1.120011</td>\n",
       "    </tr>\n",
       "    <tr>\n",
       "      <th>2</th>\n",
       "      <td>gene0</td>\n",
       "      <td>gene3</td>\n",
       "      <td>0.110016</td>\n",
       "    </tr>\n",
       "    <tr>\n",
       "      <th>3</th>\n",
       "      <td>gene0</td>\n",
       "      <td>gene4</td>\n",
       "      <td>0.019184</td>\n",
       "    </tr>\n",
       "    <tr>\n",
       "      <th>4</th>\n",
       "      <td>gene0</td>\n",
       "      <td>gene5</td>\n",
       "      <td>0.039235</td>\n",
       "    </tr>\n",
       "    <tr>\n",
       "      <th>5</th>\n",
       "      <td>gene0</td>\n",
       "      <td>gene6</td>\n",
       "      <td>0.054564</td>\n",
       "    </tr>\n",
       "    <tr>\n",
       "      <th>6</th>\n",
       "      <td>gene0</td>\n",
       "      <td>gene7</td>\n",
       "      <td>0.020721</td>\n",
       "    </tr>\n",
       "    <tr>\n",
       "      <th>7</th>\n",
       "      <td>gene0</td>\n",
       "      <td>gene8</td>\n",
       "      <td>0.032321</td>\n",
       "    </tr>\n",
       "    <tr>\n",
       "      <th>8</th>\n",
       "      <td>gene0</td>\n",
       "      <td>gene9</td>\n",
       "      <td>0.021306</td>\n",
       "    </tr>\n",
       "    <tr>\n",
       "      <th>9</th>\n",
       "      <td>gene1</td>\n",
       "      <td>gene2</td>\n",
       "      <td>0.367384</td>\n",
       "    </tr>\n",
       "    <tr>\n",
       "      <th>10</th>\n",
       "      <td>gene1</td>\n",
       "      <td>gene3</td>\n",
       "      <td>0.090137</td>\n",
       "    </tr>\n",
       "    <tr>\n",
       "      <th>11</th>\n",
       "      <td>gene1</td>\n",
       "      <td>gene4</td>\n",
       "      <td>0.118682</td>\n",
       "    </tr>\n",
       "    <tr>\n",
       "      <th>12</th>\n",
       "      <td>gene1</td>\n",
       "      <td>gene5</td>\n",
       "      <td>0.049553</td>\n",
       "    </tr>\n",
       "    <tr>\n",
       "      <th>13</th>\n",
       "      <td>gene1</td>\n",
       "      <td>gene6</td>\n",
       "      <td>0.102439</td>\n",
       "    </tr>\n",
       "    <tr>\n",
       "      <th>14</th>\n",
       "      <td>gene1</td>\n",
       "      <td>gene7</td>\n",
       "      <td>0.129201</td>\n",
       "    </tr>\n",
       "    <tr>\n",
       "      <th>15</th>\n",
       "      <td>gene1</td>\n",
       "      <td>gene8</td>\n",
       "      <td>0.036739</td>\n",
       "    </tr>\n",
       "    <tr>\n",
       "      <th>16</th>\n",
       "      <td>gene1</td>\n",
       "      <td>gene9</td>\n",
       "      <td>0.020673</td>\n",
       "    </tr>\n",
       "    <tr>\n",
       "      <th>17</th>\n",
       "      <td>gene2</td>\n",
       "      <td>gene3</td>\n",
       "      <td>0.065264</td>\n",
       "    </tr>\n",
       "    <tr>\n",
       "      <th>18</th>\n",
       "      <td>gene2</td>\n",
       "      <td>gene4</td>\n",
       "      <td>0.075603</td>\n",
       "    </tr>\n",
       "    <tr>\n",
       "      <th>19</th>\n",
       "      <td>gene2</td>\n",
       "      <td>gene5</td>\n",
       "      <td>0.021186</td>\n",
       "    </tr>\n",
       "    <tr>\n",
       "      <th>20</th>\n",
       "      <td>gene2</td>\n",
       "      <td>gene6</td>\n",
       "      <td>0.028609</td>\n",
       "    </tr>\n",
       "    <tr>\n",
       "      <th>21</th>\n",
       "      <td>gene2</td>\n",
       "      <td>gene7</td>\n",
       "      <td>0.075522</td>\n",
       "    </tr>\n",
       "    <tr>\n",
       "      <th>22</th>\n",
       "      <td>gene2</td>\n",
       "      <td>gene8</td>\n",
       "      <td>0.032264</td>\n",
       "    </tr>\n",
       "    <tr>\n",
       "      <th>23</th>\n",
       "      <td>gene2</td>\n",
       "      <td>gene9</td>\n",
       "      <td>0.012245</td>\n",
       "    </tr>\n",
       "    <tr>\n",
       "      <th>24</th>\n",
       "      <td>gene3</td>\n",
       "      <td>gene4</td>\n",
       "      <td>0.017163</td>\n",
       "    </tr>\n",
       "    <tr>\n",
       "      <th>25</th>\n",
       "      <td>gene3</td>\n",
       "      <td>gene5</td>\n",
       "      <td>0.037912</td>\n",
       "    </tr>\n",
       "    <tr>\n",
       "      <th>26</th>\n",
       "      <td>gene3</td>\n",
       "      <td>gene6</td>\n",
       "      <td>0.031966</td>\n",
       "    </tr>\n",
       "    <tr>\n",
       "      <th>27</th>\n",
       "      <td>gene3</td>\n",
       "      <td>gene7</td>\n",
       "      <td>0.015635</td>\n",
       "    </tr>\n",
       "    <tr>\n",
       "      <th>28</th>\n",
       "      <td>gene3</td>\n",
       "      <td>gene8</td>\n",
       "      <td>0.089156</td>\n",
       "    </tr>\n",
       "    <tr>\n",
       "      <th>29</th>\n",
       "      <td>gene3</td>\n",
       "      <td>gene9</td>\n",
       "      <td>0.211169</td>\n",
       "    </tr>\n",
       "    <tr>\n",
       "      <th>30</th>\n",
       "      <td>gene4</td>\n",
       "      <td>gene5</td>\n",
       "      <td>0.028104</td>\n",
       "    </tr>\n",
       "    <tr>\n",
       "      <th>31</th>\n",
       "      <td>gene4</td>\n",
       "      <td>gene6</td>\n",
       "      <td>0.173917</td>\n",
       "    </tr>\n",
       "    <tr>\n",
       "      <th>32</th>\n",
       "      <td>gene4</td>\n",
       "      <td>gene7</td>\n",
       "      <td>1.572688</td>\n",
       "    </tr>\n",
       "    <tr>\n",
       "      <th>33</th>\n",
       "      <td>gene4</td>\n",
       "      <td>gene8</td>\n",
       "      <td>0.019308</td>\n",
       "    </tr>\n",
       "    <tr>\n",
       "      <th>34</th>\n",
       "      <td>gene4</td>\n",
       "      <td>gene9</td>\n",
       "      <td>0.031253</td>\n",
       "    </tr>\n",
       "    <tr>\n",
       "      <th>35</th>\n",
       "      <td>gene5</td>\n",
       "      <td>gene6</td>\n",
       "      <td>0.173929</td>\n",
       "    </tr>\n",
       "    <tr>\n",
       "      <th>36</th>\n",
       "      <td>gene5</td>\n",
       "      <td>gene7</td>\n",
       "      <td>0.015838</td>\n",
       "    </tr>\n",
       "    <tr>\n",
       "      <th>37</th>\n",
       "      <td>gene5</td>\n",
       "      <td>gene8</td>\n",
       "      <td>0.352875</td>\n",
       "    </tr>\n",
       "    <tr>\n",
       "      <th>38</th>\n",
       "      <td>gene5</td>\n",
       "      <td>gene9</td>\n",
       "      <td>0.053455</td>\n",
       "    </tr>\n",
       "    <tr>\n",
       "      <th>39</th>\n",
       "      <td>gene6</td>\n",
       "      <td>gene7</td>\n",
       "      <td>0.075770</td>\n",
       "    </tr>\n",
       "    <tr>\n",
       "      <th>40</th>\n",
       "      <td>gene6</td>\n",
       "      <td>gene8</td>\n",
       "      <td>0.062131</td>\n",
       "    </tr>\n",
       "    <tr>\n",
       "      <th>41</th>\n",
       "      <td>gene6</td>\n",
       "      <td>gene9</td>\n",
       "      <td>0.028441</td>\n",
       "    </tr>\n",
       "    <tr>\n",
       "      <th>42</th>\n",
       "      <td>gene7</td>\n",
       "      <td>gene8</td>\n",
       "      <td>0.020310</td>\n",
       "    </tr>\n",
       "    <tr>\n",
       "      <th>43</th>\n",
       "      <td>gene7</td>\n",
       "      <td>gene9</td>\n",
       "      <td>0.016015</td>\n",
       "    </tr>\n",
       "    <tr>\n",
       "      <th>44</th>\n",
       "      <td>gene8</td>\n",
       "      <td>gene9</td>\n",
       "      <td>0.042529</td>\n",
       "    </tr>\n",
       "    <tr>\n",
       "      <th>45</th>\n",
       "      <td>gene12</td>\n",
       "      <td>gene16</td>\n",
       "      <td>0.000183</td>\n",
       "    </tr>\n",
       "  </tbody>\n",
       "</table>\n",
       "</div>"
      ],
      "text/plain": [
       "     gene1   gene2    weight\n",
       "0    gene0   gene1  0.751975\n",
       "1    gene0   gene2  1.120011\n",
       "2    gene0   gene3  0.110016\n",
       "3    gene0   gene4  0.019184\n",
       "4    gene0   gene5  0.039235\n",
       "5    gene0   gene6  0.054564\n",
       "6    gene0   gene7  0.020721\n",
       "7    gene0   gene8  0.032321\n",
       "8    gene0   gene9  0.021306\n",
       "9    gene1   gene2  0.367384\n",
       "10   gene1   gene3  0.090137\n",
       "11   gene1   gene4  0.118682\n",
       "12   gene1   gene5  0.049553\n",
       "13   gene1   gene6  0.102439\n",
       "14   gene1   gene7  0.129201\n",
       "15   gene1   gene8  0.036739\n",
       "16   gene1   gene9  0.020673\n",
       "17   gene2   gene3  0.065264\n",
       "18   gene2   gene4  0.075603\n",
       "19   gene2   gene5  0.021186\n",
       "20   gene2   gene6  0.028609\n",
       "21   gene2   gene7  0.075522\n",
       "22   gene2   gene8  0.032264\n",
       "23   gene2   gene9  0.012245\n",
       "24   gene3   gene4  0.017163\n",
       "25   gene3   gene5  0.037912\n",
       "26   gene3   gene6  0.031966\n",
       "27   gene3   gene7  0.015635\n",
       "28   gene3   gene8  0.089156\n",
       "29   gene3   gene9  0.211169\n",
       "30   gene4   gene5  0.028104\n",
       "31   gene4   gene6  0.173917\n",
       "32   gene4   gene7  1.572688\n",
       "33   gene4   gene8  0.019308\n",
       "34   gene4   gene9  0.031253\n",
       "35   gene5   gene6  0.173929\n",
       "36   gene5   gene7  0.015838\n",
       "37   gene5   gene8  0.352875\n",
       "38   gene5   gene9  0.053455\n",
       "39   gene6   gene7  0.075770\n",
       "40   gene6   gene8  0.062131\n",
       "41   gene6   gene9  0.028441\n",
       "42   gene7   gene8  0.020310\n",
       "43   gene7   gene9  0.016015\n",
       "44   gene8   gene9  0.042529\n",
       "45  gene12  gene16  0.000183"
      ]
     },
     "execution_count": 8,
     "metadata": {},
     "output_type": "execute_result"
    }
   ],
   "source": [
    "edge_network"
   ]
  }
 ],
 "metadata": {
  "kernelspec": {
   "display_name": "Python 3",
   "language": "python",
   "name": "python3"
  },
  "language_info": {
   "codemirror_mode": {
    "name": "ipython",
    "version": 3
   },
   "file_extension": ".py",
   "mimetype": "text/x-python",
   "name": "python",
   "nbconvert_exporter": "python",
   "pygments_lexer": "ipython3",
   "version": "3.8.3"
  }
 },
 "nbformat": 4,
 "nbformat_minor": 4
}
